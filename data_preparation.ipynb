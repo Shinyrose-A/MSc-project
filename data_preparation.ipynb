{
  "nbformat": 4,
  "nbformat_minor": 0,
  "metadata": {
    "colab": {
      "provenance": [],
      "authorship_tag": "ABX9TyO11aRWZ+tvhnDy2YGRMvn0"
    },
    "kernelspec": {
      "name": "python3",
      "display_name": "Python 3"
    },
    "language_info": {
      "name": "python"
    },
    "accelerator": "GPU",
    "gpuClass": "standard"
  },
  "cells": [
    {
      "cell_type": "code",
      "execution_count": null,
      "metadata": {
        "id": "y7qKTQFW-oLF"
      },
      "outputs": [],
      "source": [
        "import torch\n",
        "import torch.nn as nn\n",
        "from torchvision import transforms\n",
        "import os\n",
        "from torch.utils.data import Dataset, DataLoader\n",
        "import numpy as np\n",
        "import cv2\n",
        "import shutil\n",
        "from PIL import Image\n",
        "import sys\n",
        "from torchvision.datasets import ImageFolder\n",
        "import torch.optim as optim\n",
        "from tqdm import tqdm\n",
        "from torchvision.utils import save_image\n",
        "#import albumentations as A\n",
        "#from albumentations.pytorch import ToTensorV2\n",
        "import matplotlib.pyplot as plt"
      ]
    },
    {
      "cell_type": "code",
      "source": [
        "DEVICE = \"cuda\" if torch.cuda.is_available() else \"cpu\"\n",
        "print(DEVICE)\n",
        "BATCH_SIZE = 1\n",
        "LEARNING_RATE = 1e-5\n",
        "LAMBDA_IDENTITY = 0.0\n",
        "LAMBDA_CYCLE = 10\n",
        "NUM_WORKERS = 2\n",
        "NUM_EPOCHS = 30\n",
        "LOAD_MODEL = False\n",
        "SAVE_MODEL = True\n",
        "CHECKPOINT_GEN_S = \"gens.pth.tar\"\n",
        "CHECKPOINT_GEN_R = \"genr.pth.tar\"\n",
        "CHECKPOINT_CRITIC_S = \"critics.pth.tar\"\n",
        "CHECKPOINT_CRITIC_R = \"criticr.pth.tar\""
      ],
      "metadata": {
        "id": "wPbwraOW_JWI"
      },
      "execution_count": null,
      "outputs": []
    },
    {
      "cell_type": "code",
      "source": [
        "from google.colab import drive\n",
        "drive.mount('/content/drive')"
      ],
      "metadata": {
        "id": "tBw8HTuX_DP3"
      },
      "execution_count": null,
      "outputs": []
    },
    {
      "cell_type": "code",
      "source": [
        "def getFileNames(rootDir):\n",
        "    fileNames = []\n",
        "    # Use os.walk() function to get the name of the folder, subfolder and file name in the root directory\n",
        "    for dirName, subDirList, fileList in os.walk(rootDir):\n",
        "        for fname in fileList:\n",
        "            # Use the os.path.split() function to determine and get the suffix of a file\n",
        "            if os.path.splitext(fname)[1] == '.png':\n",
        "                fileNames.append(dirName+'/'+fname)\n",
        "    return fileNames"
      ],
      "metadata": {
        "id": "UEj6lEWoEHGq"
      },
      "execution_count": null,
      "outputs": []
    },
    {
      "cell_type": "code",
      "source": [
        "# Define the locations for the articles and summaries\n",
        "base = '/content/drive/MyDrive/Project/data'\n",
        "path = base + '/T1'"
      ],
      "metadata": {
        "id": "IFelWo1OEaBy"
      },
      "execution_count": null,
      "outputs": []
    },
    {
      "cell_type": "code",
      "source": [
        "path = '/content/drive/MyDrive/Project/data/rgbd'\n",
        "img_path = getFileNames(path)\n",
        "print(len(img_path))\n",
        "#img_path.sort()\n",
        "print(img_path)"
      ],
      "metadata": {
        "id": "DnJKYCtGEfpr"
      },
      "execution_count": null,
      "outputs": []
    },
    {
      "cell_type": "markdown",
      "source": [
        "## Data process"
      ],
      "metadata": {
        "id": "vZIDNWtrsyAW"
      }
    },
    {
      "cell_type": "code",
      "source": [
        "def readImgAndMove(imgPath):\n",
        "    # Define the folder name for the category, determine if it exists and if not create the corresponding folder\n",
        "    base = '/content/drive/MyDrive/Project/data'\n",
        "    img_destination = base+'/syntheic'\n",
        "    depth_destination = base+'/depth map'\n",
        "    #if not (os.path.exists(img_destination) and os.path.exists(depth_destination)):\n",
        "        #os.makedirs(img_destination)\n",
        "        #os.makedirs(depth_destination)\n",
        "     \n",
        "\n",
        "    for file in os.listdir(imgPath):\n",
        "        file_path = '/content/drive/MyDrive/Project/data/T1' + f'/{file}'\n",
        "        #print(file_path)\n",
        "        for item in os.listdir(file_path):\n",
        "            if os.path.splitext(item)[1] == '.png' and 'Depth' in os.path.splitext(item)[0]:\n",
        "                #print(item_path)\n",
        "                source = file_path + f'/{item}'\n",
        "                shutil.copy(source, depth_destination)\n",
        "                old_name = '/content/drive/MyDrive/Project/data/depth map' + f'/{item}'\n",
        "                new_name = '/content/drive/MyDrive/Project/data/depth map' + f'/{file}' +'_' + f'{item}'\n",
        "                os.rename(old_name, new_name)\n",
        "            elif os.path.splitext(item)[1] == '.png' and 'FrameBuffer' in os.path.splitext(item)[0]:\n",
        "                source = file_path + f'/{item}'\n",
        "                shutil.copy(source, img_destination)\n",
        "                old_name = '/content/drive/MyDrive/Project/data/syntheic' + f'/{item}'\n",
        "                new_name = '/content/drive/MyDrive/Project/data/syntheic' + f'/{file}' +'_' + f'{item}'\n",
        "                os.rename(old_name, new_name)\n",
        "\n",
        "\n"
      ],
      "metadata": {
        "id": "DS0i9FwhO2Ch"
      },
      "execution_count": null,
      "outputs": []
    },
    {
      "cell_type": "code",
      "source": [
        "readImgAndMove('/content/drive/MyDrive/Project/data/T1')"
      ],
      "metadata": {
        "id": "hbD2IyjQPQTN"
      },
      "execution_count": null,
      "outputs": []
    },
    {
      "cell_type": "code",
      "source": [
        "def gen_rgbd(rgb_path, depth_path):\n",
        "    rgb_path_list = os.listdir(rgb_path)\n",
        "    rgb_path_list.sort()\n",
        "    depth_path_list = os.listdir(depth_path)\n",
        "    depth_path_list.sort()\n",
        "\n",
        "    #number=1\n",
        "    for i, name in enumerate(rgb_path_list):\n",
        "        rgb_path_single = rgb_path+'/'+rgb_path_list[i]\n",
        "        depth_path_single = depth_path+'/'+depth_path_list[i]\n",
        "        #print(rgb_path_single)\n",
        "        #print(depth_path_single)\n",
        "        \n",
        "        # actually rgba(red, green, blue, alpha), so get first three channels\n",
        "        rgb = cv2.imread(rgb_path_single, cv2.IMREAD_UNCHANGED)\n",
        "        depth = cv2.imread(depth_path_single, cv2.IMREAD_UNCHANGED)\n",
        "        \n",
        "        rgb_array = np.array(rgb)\n",
        "        depth_array = np.array(depth)\n",
        "        #print(rgb_array.shape)\n",
        "        #print(depth_array.shape)\n",
        "\n",
        "        rgbd = np.zeros((256,256,4),dtype=np.uint8)\n",
        "        rgbd[:, :, 0] = rgb[:, :, 0]\n",
        "        rgbd[:, :, 1] = rgb[:, :, 1]\n",
        "        rgbd[:, :, 2] = rgb[:, :, 2]\n",
        "        rgbd[:, :, 3] = depth\n",
        "\n",
        "        #name of rgbd\n",
        "        number = os.path.splitext(rgb_path_list[i])[0][-5:]\n",
        "        category = os.path.splitext(rgb_path_list[i])[0][:17]\n",
        "\n",
        "        img_name = category + number +'.png'+'.png'\n",
        "        #number+=1\n",
        "        save_path = \"/content/drive/MyDrive/Project/data/rgbd_order\"\n",
        "        if os.path.exists(save_path):\n",
        "            '''调用cv.2的imwrite函数保存图片'''\n",
        "            save_img = save_path + '/' +img_name\n",
        "            cv2.imwrite(save_img, rgbd)\n",
        "        else:\n",
        "            os.mkdir(save_path)\n",
        "            save_img = save_path + '/' +img_name\n",
        "            cv2.imwrite(save_img, rgbd)\n",
        "        \n",
        "\n",
        "\n"
      ],
      "metadata": {
        "id": "zPPndno0egWT"
      },
      "execution_count": null,
      "outputs": []
    },
    {
      "cell_type": "code",
      "source": [
        "rgb_path = \"/content/drive/MyDrive/Project/data/syntheic\"\n",
        "depth_path = \"/content/drive/MyDrive/Project/data/depth map\"\n",
        "gen_rgbd(rgb_path, depth_path)"
      ],
      "metadata": {
        "id": "BPOoMFRte2T0"
      },
      "execution_count": null,
      "outputs": []
    },
    {
      "cell_type": "code",
      "source": [
        "def Resize_Image(root_path,w=256,h=256):\n",
        "    file_path_list = os.listdir(root_path)\n",
        "    for file in file_path_list:\n",
        "        file_path = root_path + f'/{file}'\n",
        "        image_path_list = os.listdir(file_path)\n",
        "        image_path_list.sort()\n",
        "        number=1\n",
        "        for filename in image_path_list:\n",
        "            file = file_path+'/'+filename\n",
        "            img = cv2.imread((file), cv2.IMREAD_COLOR)\n",
        "            \n",
        "            new_img = cv2.resize(img, (w, h), interpolation=cv2.INTER_CUBIC)\n",
        "            #print(new_img.shape)\n",
        "            img_name = str(number)+'.png'\n",
        "            number+=1\n",
        "            '''生成图片存储的目标路径'''\n",
        "            save_path = \"/content/drive/MyDrive/Project/data/real_resized_specfic\"\n",
        "            if os.path.exists(save_path):\n",
        "                '''调用cv.2的imwrite函数保存图片'''\n",
        "                save_img = save_path + '/' +img_name\n",
        "                cv2.imwrite(save_img, new_img)\n",
        "            else:\n",
        "                os.mkdir(save_path)\n",
        "                save_img = save_path + '/' +img_name\n",
        "                cv2.imwrite(save_img, new_img)\n"
      ],
      "metadata": {
        "id": "j1-JleQGymq8"
      },
      "execution_count": null,
      "outputs": []
    },
    {
      "cell_type": "code",
      "source": [
        "Resize_Image('/content/drive/MyDrive/Project/data/kvasir-dataset-v2',w=256,h=256)"
      ],
      "metadata": {
        "id": "9wQ77EuN1CBV"
      },
      "execution_count": null,
      "outputs": []
    },
    {
      "cell_type": "markdown",
      "source": [
        "## Generate data set"
      ],
      "metadata": {
        "id": "tfqVaO5ys4hV"
      }
    },
    {
      "cell_type": "code",
      "source": [
        "class gen_dataset(Dataset):\n",
        "    def __init__(self, root_rgbd, root_real, root_compare_rgb, root_compare_depth, transform=None, transform_rgbd=None):\n",
        "        self.root_rgbd = root_rgbd\n",
        "        self.root_real = root_real\n",
        "        self.root_compare_rgb = root_compare_rgb\n",
        "        self.root_compare_depth = root_compare_depth\n",
        "        self.transform = transform\n",
        "        self.transform_rgbd = transform_rgbd\n",
        "\n",
        "        # to make os.listdir not shuffle\n",
        "        #root_syntheic = os.getcwd()\n",
        "\n",
        "        self.rgbd_images = os.listdir(root_rgbd)\n",
        "        self.real_images = os.listdir(root_real)\n",
        "\n",
        "\n",
        "        self.length_dataset = min(len(self.rgbd_images), len(self.real_images))\n",
        "        self.rgbd_length = len(self.rgbd_images)\n",
        "        self.real_length = len(self.real_images)\n",
        "\n",
        "        self.rgbd_images.sort()\n",
        "        self.compare_rgb_images = os.listdir(root_compare_rgb)\n",
        "        self.compare_rgb_images.sort()\n",
        "        self.compare_depth_images = os.listdir(root_compare_depth)\n",
        "        self.compare_depth_images.sort()        \n",
        "\n",
        "    def __len__(self):\n",
        "        return self.length_dataset\n",
        "\n",
        "    def __getitem__(self, index):\n",
        "        rgbd_img = self.rgbd_images[index % self.rgbd_length]\n",
        "        real_img = self.real_images[index % self.real_length]\n",
        "        compare_rgb_img = self.compare_rgb_images[index % self.real_length]\n",
        "        compare_depth_img = self.compare_depth_images[index % self.real_length]\n",
        "\n",
        "        rgbd_path = os.path.join(self.root_rgbd, rgbd_img)\n",
        "        real_path = os.path.join(self.root_real, real_img)\n",
        "        compare_rgb_path = os.path.join(self.root_compare_rgb, compare_rgb_img)\n",
        "        compare_depth_path = os.path.join(self.root_compare_depth, compare_depth_img)\n",
        "\n",
        "        rgbd_img = np.array(Image.open(rgbd_path))\n",
        "        real_img = np.array(Image.open(real_path).convert(\"RGB\"))\n",
        "        compare_rgb_img = np.array(Image.open(compare_rgb_path))\n",
        "        compare_depth_img = np.array(Image.open(compare_depth_path))\n",
        "\n",
        "        if self.transform:\n",
        "\n",
        "            real_img = self.transform(image=real_img)[\"image\"]\n",
        "        if self.transform_rgbd:\n",
        "            rgbd_img = self.transform_rgbd(image=rgbd_img)[\"image\"]\n",
        "\n",
        "        \n",
        "        return rgbd_img, real_img, compare_rgb_path, compare_depth_path, rgbd_path"
      ],
      "metadata": {
        "id": "5BrlTi4el5j_"
      },
      "execution_count": null,
      "outputs": []
    },
    {
      "cell_type": "code",
      "source": [
        "Dataset = gen_dataset(root_rgbd = \"/content/drive/MyDrive/Project/data/rgbd_order\",\n",
        "                      root_real = \"/content/drive/MyDrive/Project/data/real_resized_specfic\",\n",
        "                      root_compare_rgb = \"/content/drive/MyDrive/Project/data/syntheic\",\n",
        "                      root_compare_depth = \"/content/drive/MyDrive/Project/data/depth map\",\n",
        "                      transform=None,\n",
        "                      transform_rgbd=None)\n",
        "\n",
        "loader = DataLoader(Dataset, batch_size = 1, shuffle=True, num_workers=2, pin_memory = True)"
      ],
      "metadata": {
        "id": "oBaRD90hma4r"
      },
      "execution_count": null,
      "outputs": []
    },
    {
      "cell_type": "code",
      "source": [
        "for data in loader:\n",
        "    rgbd_img, real_img, compare_rgb_path, compare_depth_img, rgbd_path = data\n",
        "    #compare_rgb_img = compare_rgb_img.permute(0,3,1,2)\n",
        "    #compare_depth_img = compare_depth_img.permute(0,3,1,2)\n",
        "    print(compare_rgb_path)\n",
        "    print(compare_depth_img)\n",
        "    print(rgbd_path)"
      ],
      "metadata": {
        "id": "MbtEGftcmeCX"
      },
      "execution_count": null,
      "outputs": []
    },
    {
      "cell_type": "markdown",
      "source": [
        "## FID"
      ],
      "metadata": {
        "id": "P5WLECq8HslQ"
      }
    },
    {
      "cell_type": "markdown",
      "source": [
        "https://colab.research.google.com/github/pytorch-ignite/pytorch-ignite.ai/blob/gh-pages/blog/2021-08-11-GAN-evaluation-using-FID-and-IS.ipynb#scrollTo=b2r7OHYEGxLz"
      ],
      "metadata": {
        "id": "qwhKk61vOKF_"
      }
    },
    {
      "cell_type": "markdown",
      "source": [
        "https://github.com/mseitzer/pytorch-fid"
      ],
      "metadata": {
        "id": "MNZvWo-qYIQ2"
      }
    },
    {
      "cell_type": "code",
      "source": [
        "pip install pytorch-fid==0.1.1"
      ],
      "metadata": {
        "id": "SKui3kYDHrIQ"
      },
      "execution_count": null,
      "outputs": []
    },
    {
      "cell_type": "code",
      "source": [
        "import pytorch_fid.fid_score"
      ],
      "metadata": {
        "id": "c1MT5pZPSog3"
      },
      "execution_count": null,
      "outputs": []
    },
    {
      "cell_type": "code",
      "source": [
        "pytorch_fid.fid_score.calculate_fid_given_paths(['/content/drive/MyDrive/Project/data/real_resized_specfic', '/content/drive/MyDrive/Project/data/real_resized'], 1, 'cude', 2048)"
      ],
      "metadata": {
        "id": "PBRNFi4uTGZG"
      },
      "execution_count": null,
      "outputs": []
    }
  ]
}